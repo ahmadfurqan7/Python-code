{
 "cells": [
  {
   "cell_type": "markdown",
   "metadata": {},
   "source": [
    "Class Methods \n",
    "\n",
    "Methods of objects we've looked at so far are called by an instance of a class, which is then passed to the self parameter of the method.\n",
    "Class methods are different -- they are called by a class, which is passed to the cls parameter of the method. \n",
    "A common use of these are factory methods, which instantiate an instance of a class, using different parameters than those usually passed to the class constructor. \n",
    "Class methods are marked with a classmethod decorator.\n",
    "\n"
   ]
  },
  {
   "cell_type": "code",
   "execution_count": 1,
   "metadata": {},
   "outputs": [
    {
     "name": "stdout",
     "output_type": "stream",
     "text": [
      "25\n"
     ]
    }
   ],
   "source": [
    "class Rectangle:\n",
    "  def __init__(self, width, height):\n",
    "    self.width = width\n",
    "    self.height = height\n",
    "\n",
    "  def calculate_area(self):\n",
    "    return self.width * self.height\n",
    "\n",
    "  @classmethod\n",
    "  def new_square(cls, side_length):\n",
    "    return cls(side_length, side_length)\n",
    "\n",
    "square = Rectangle.new_square(5)\n",
    "print(square.calculate_area())"
   ]
  },
  {
   "cell_type": "markdown",
   "metadata": {},
   "source": [
    "Static Methods \n",
    "\n",
    "Static methods are similar to class methods, except they don't receive any additional arguments; they are identical to normal functions that belong to a class. \n",
    "They are marked with the staticmethod decorator."
   ]
  },
  {
   "cell_type": "code",
   "execution_count": 2,
   "metadata": {},
   "outputs": [],
   "source": [
    "class Pizza:\n",
    "  def __init__(self, toppings):\n",
    "    self.toppings = toppings\n",
    "\n",
    "  @staticmethod\n",
    "  def validate_topping(topping):\n",
    "    if topping == \"pineapple\":\n",
    "      raise ValueError(\"No pineapples!\")\n",
    "    else:\n",
    "      return True\n",
    "\n",
    "ingredients = [\"cheese\", \"onions\", \"spam\"]\n",
    "if all(Pizza.validate_topping(i) for i in ingredients):\n",
    "  pizza = Pizza(ingredients) "
   ]
  },
  {
   "cell_type": "markdown",
   "metadata": {},
   "source": [
    "Static Methods \n",
    "\n",
    "The given code takes 2 numbers as input and calls the static area() method of the Shape class, to output the area of the shape, which is equal to the height multiplied by the width.\n",
    "To make the code work, you need to define the Shape class, and the static area() method, which should return the multiplication of its two arguments.\n",
    "\n"
   ]
  },
  {
   "cell_type": "code",
   "execution_count": 4,
   "metadata": {},
   "outputs": [
    {
     "name": "stdout",
     "output_type": "stream",
     "text": [
      "25\n"
     ]
    }
   ],
   "source": [
    "class Shape:\n",
    "    def __init__(self, width, height):\n",
    "        self.width = width\n",
    "        self.height = height\n",
    "    \n",
    "    @staticmethod\n",
    "    def area(self):\n",
    "        return self.width * self.height\n",
    "\n",
    "w = int(5)\n",
    "h = int(5)\n",
    "\n",
    "s = Shape(w, h)\n",
    "print(Shape.area(s))"
   ]
  }
 ],
 "metadata": {
  "kernelspec": {
   "display_name": "Python 3",
   "language": "python",
   "name": "python3"
  },
  "language_info": {
   "codemirror_mode": {
    "name": "ipython",
    "version": 3
   },
   "file_extension": ".py",
   "mimetype": "text/x-python",
   "name": "python",
   "nbconvert_exporter": "python",
   "pygments_lexer": "ipython3",
   "version": "3.11.4"
  }
 },
 "nbformat": 4,
 "nbformat_minor": 2
}

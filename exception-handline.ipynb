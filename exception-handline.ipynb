{
 "cells": [
  {
   "cell_type": "code",
   "execution_count": 2,
   "metadata": {},
   "outputs": [
    {
     "name": "stdout",
     "output_type": "stream",
     "text": [
      "An error occurred\n",
      "due to zero division\n"
     ]
    }
   ],
   "source": [
    "# EXCEPTION HANDLING\n",
    "\n",
    "# try - except\n",
    "\n",
    "try:\n",
    "   num1 = 7\n",
    "   num2 = 0\n",
    "   print (num1 / num2)\n",
    "   print(\"Done calculation\")\n",
    "except ZeroDivisionError:\n",
    "   print(\"An error occurred\")\n",
    "   print(\"due to zero division\")"
   ]
  },
  {
   "cell_type": "code",
   "execution_count": 1,
   "metadata": {},
   "outputs": [
    {
     "name": "stdout",
     "output_type": "stream",
     "text": [
      "Error occurred\n"
     ]
    }
   ],
   "source": [
    "try:\n",
    "   variable = 10\n",
    "   print(variable + \"hello\")\n",
    "   print(variable / 2)\n",
    "except ZeroDivisionError:\n",
    "   print(\"Divided by zero\")\n",
    "except (ValueError, TypeError):\n",
    "   print(\"Error occurred\")"
   ]
  },
  {
   "cell_type": "code",
   "execution_count": 3,
   "metadata": {},
   "outputs": [
    {
     "name": "stdout",
     "output_type": "stream",
     "text": [
      "An error occurred\n"
     ]
    }
   ],
   "source": [
    "try:\n",
    "   word = \"spam\"\n",
    "   print(word / 0)\n",
    "except:\n",
    "   print(\"An error occurred\")"
   ]
  },
  {
   "cell_type": "markdown",
   "metadata": {},
   "source": [
    "# Exception Handling \n",
    " \n",
    "\n",
    "An ATM machine takes the amount to be withdrawn as input and calls the corresponding withdrawal method.\n",
    "In case the input is not a number, the machine should output \"Please enter a number\".\n",
    "Use exception handling to take a number as input, call the withdraw() method with the input as its argument, and output \"Please enter a number\", in case the input is not a number."
   ]
  },
  {
   "cell_type": "code",
   "execution_count": 8,
   "metadata": {},
   "outputs": [
    {
     "name": "stdout",
     "output_type": "stream",
     "text": [
      "Please enter a number\n"
     ]
    }
   ],
   "source": [
    "def withdraw(amount):\n",
    "   print(str(amount) + \" withdrawn!\")\n",
    "\n",
    "try:\n",
    "   a = int(input())\n",
    "   withdraw(a)\n",
    "\n",
    "except (ValueError, TypeError):\n",
    "   print(\"Please enter a number\")\n",
    "\n",
    "   # input selain angka akan menjalankan blok except"
   ]
  },
  {
   "cell_type": "code",
   "execution_count": 9,
   "metadata": {},
   "outputs": [
    {
     "name": "stdout",
     "output_type": "stream",
     "text": [
      "Hello\n",
      "Divided by zero\n",
      "This code will run no matter what\n"
     ]
    }
   ],
   "source": [
    "# finally \n",
    "try:\n",
    "   print(\"Hello\")\n",
    "   print(1 / 0)\n",
    "except ZeroDivisionError:\n",
    "   print(\"Divided by zero\")\n",
    "finally:\n",
    "   print(\"This code will run no matter what\")"
   ]
  },
  {
   "cell_type": "code",
   "execution_count": 10,
   "metadata": {},
   "outputs": [
    {
     "name": "stdout",
     "output_type": "stream",
     "text": [
      "1\n",
      "3\n",
      "4\n"
     ]
    }
   ],
   "source": [
    "# else\n",
    "try:\n",
    "   print(1)\n",
    "except ZeroDivisionError:\n",
    "   print(2)\n",
    "else:\n",
    "   print(3)\n",
    "\n",
    "try:\n",
    "   print(1/0)\n",
    "except ZeroDivisionError:\n",
    "   print(4)\n",
    "else:\n",
    "   print(5)\n",
    "\n",
    "# else dieksekusi hanya jika perintah diblok try benar"
   ]
  },
  {
   "cell_type": "markdown",
   "metadata": {},
   "source": [
    "# else \n",
    "You are making a digital menu to order food.\n",
    "The menu is stored as a list of items.\n",
    "Your program needs to take the index of the item as input and output the item name.\n",
    "In case the index is not valid, you should output \"Item not found\".\n",
    "In case the index is valid and the item name is output successfully, you should output \"Thanks for your order\".\n",
    "\n",
    "Sample Input : 2\n",
    "\n",
    "Sample Output :\n",
    "\n",
    "Cheeseburger\n",
    "\n",
    "Thanks for your order"
   ]
  },
  {
   "cell_type": "code",
   "execution_count": 12,
   "metadata": {},
   "outputs": [
    {
     "name": "stdout",
     "output_type": "stream",
     "text": [
      "Cheeseburger\n",
      "Thanks for your order\n"
     ]
    }
   ],
   "source": [
    "menu = ['Fries', 'Sandwich', 'Cheeseburger', 'Coffee', 'Soda']\n",
    "#your code goes here\n",
    "try:\n",
    "    ask = int(input())\n",
    "    print(menu[ask])\n",
    "except (IndexError, ValueError, TypeError):\n",
    "    print(\"Item not found\")\n",
    "else:\n",
    "    print(\"Thanks for your order\")"
   ]
  },
  {
   "cell_type": "code",
   "execution_count": 13,
   "metadata": {},
   "outputs": [
    {
     "name": "stdout",
     "output_type": "stream",
     "text": [
      "1\n",
      "3\n"
     ]
    }
   ],
   "source": [
    "try:\n",
    "  print(1)\n",
    "  print(1 + \"1\" == 2)\n",
    "  print(2)\n",
    "except TypeError:\n",
    "  print(3)\n",
    "else:\n",
    "  print(4)"
   ]
  },
  {
   "cell_type": "markdown",
   "metadata": {},
   "source": [
    "#Raise exception"
   ]
  },
  {
   "cell_type": "code",
   "execution_count": 14,
   "metadata": {},
   "outputs": [
    {
     "ename": "ValueError",
     "evalue": "",
     "output_type": "error",
     "traceback": [
      "\u001b[1;31m---------------------------------------------------------------------------\u001b[0m",
      "\u001b[1;31mValueError\u001b[0m                                Traceback (most recent call last)",
      "Cell \u001b[1;32mIn[14], line 3\u001b[0m\n\u001b[0;32m      1\u001b[0m num \u001b[38;5;241m=\u001b[39m \u001b[38;5;241m102\u001b[39m\n\u001b[0;32m      2\u001b[0m \u001b[38;5;28;01mif\u001b[39;00m num \u001b[38;5;241m>\u001b[39m \u001b[38;5;241m100\u001b[39m:\n\u001b[1;32m----> 3\u001b[0m   \u001b[38;5;28;01mraise\u001b[39;00m \u001b[38;5;167;01mValueError\u001b[39;00m\n",
      "\u001b[1;31mValueError\u001b[0m: "
     ]
    }
   ],
   "source": [
    "num = 102\n",
    "if num > 100:\n",
    "  raise ValueError"
   ]
  },
  {
   "cell_type": "code",
   "execution_count": 15,
   "metadata": {},
   "outputs": [
    {
     "ename": "NameError",
     "evalue": "Invalid name!",
     "output_type": "error",
     "traceback": [
      "\u001b[1;31m---------------------------------------------------------------------------\u001b[0m",
      "\u001b[1;31mNameError\u001b[0m                                 Traceback (most recent call last)",
      "Cell \u001b[1;32mIn[15], line 2\u001b[0m\n\u001b[0;32m      1\u001b[0m name \u001b[38;5;241m=\u001b[39m \u001b[38;5;124m\"\u001b[39m\u001b[38;5;124m123\u001b[39m\u001b[38;5;124m\"\u001b[39m\n\u001b[1;32m----> 2\u001b[0m \u001b[38;5;28;01mraise\u001b[39;00m \u001b[38;5;167;01mNameError\u001b[39;00m(\u001b[38;5;124m\"\u001b[39m\u001b[38;5;124mInvalid name!\u001b[39m\u001b[38;5;124m\"\u001b[39m)\n",
      "\u001b[1;31mNameError\u001b[0m: Invalid name!"
     ]
    }
   ],
   "source": [
    "name = \"123\"\n",
    "raise NameError(\"Invalid name!\")"
   ]
  },
  {
   "cell_type": "markdown",
   "metadata": {},
   "source": [
    "Raising Exceptions \n",
    " \n",
    "You are making a program to post tweets. Each tweet must not exceed 42 characters.\n",
    "Complete the program to raise an exception, in case the length of the tweet is more than 42 characters."
   ]
  },
  {
   "cell_type": "code",
   "execution_count": 17,
   "metadata": {},
   "outputs": [
    {
     "name": "stdout",
     "output_type": "stream",
     "text": [
      "Error\n"
     ]
    }
   ],
   "source": [
    "tweet = input()\n",
    "\n",
    "try:\n",
    "    #your code goes here\n",
    "    if len(tweet) > 42:\n",
    "        raise ValueError    \n",
    "except:\n",
    "    print(\"Error\")\n",
    "else:\n",
    "    print(\"Posted\")"
   ]
  }
 ],
 "metadata": {
  "kernelspec": {
   "display_name": "Python 3",
   "language": "python",
   "name": "python3"
  },
  "language_info": {
   "codemirror_mode": {
    "name": "ipython",
    "version": 3
   },
   "file_extension": ".py",
   "mimetype": "text/x-python",
   "name": "python",
   "nbconvert_exporter": "python",
   "pygments_lexer": "ipython3",
   "version": "3.11.4"
  }
 },
 "nbformat": 4,
 "nbformat_minor": 2
}

{
 "cells": [
  {
   "cell_type": "markdown",
   "metadata": {},
   "source": [
    "Properties\n",
    "\n",
    "Properties provide a way of customizing access to instance attributes. \n",
    "They are created by putting the property decorator above a method, which means when the instance attribute with the same name as the method is accessed, the method will be called instead. \n",
    "One common use of a property is to make an attribute read-only."
   ]
  },
  {
   "cell_type": "code",
   "execution_count": 5,
   "metadata": {},
   "outputs": [
    {
     "name": "stdout",
     "output_type": "stream",
     "text": [
      "False\n"
     ]
    },
    {
     "ename": "AttributeError",
     "evalue": "property 'pineapple_allowed' of 'Pizza' object has no setter",
     "output_type": "error",
     "traceback": [
      "\u001b[1;31m---------------------------------------------------------------------------\u001b[0m",
      "\u001b[1;31mAttributeError\u001b[0m                            Traceback (most recent call last)",
      "Cell \u001b[1;32mIn[5], line 11\u001b[0m\n\u001b[0;32m      9\u001b[0m pizza \u001b[38;5;241m=\u001b[39m Pizza([\u001b[38;5;124m\"\u001b[39m\u001b[38;5;124mcheese\u001b[39m\u001b[38;5;124m\"\u001b[39m, \u001b[38;5;124m\"\u001b[39m\u001b[38;5;124mtomato\u001b[39m\u001b[38;5;124m\"\u001b[39m])\n\u001b[0;32m     10\u001b[0m \u001b[38;5;28mprint\u001b[39m(pizza\u001b[38;5;241m.\u001b[39mpineapple_allowed)\n\u001b[1;32m---> 11\u001b[0m \u001b[43mpizza\u001b[49m\u001b[38;5;241;43m.\u001b[39;49m\u001b[43mpineapple_allowed\u001b[49m \u001b[38;5;241m=\u001b[39m \u001b[38;5;28;01mTrue\u001b[39;00m\n",
      "\u001b[1;31mAttributeError\u001b[0m: property 'pineapple_allowed' of 'Pizza' object has no setter"
     ]
    }
   ],
   "source": [
    "class Pizza:\n",
    "  def __init__(self, toppings):\n",
    "    self.toppings = toppings\n",
    "    \n",
    "  @property\n",
    "  def pineapple_allowed(self):\n",
    "    return False\n",
    "\n",
    "pizza = Pizza([\"cheese\", \"tomato\"])\n",
    "print(pizza.pineapple_allowed)\n",
    "pizza.pineapple_allowed = True"
   ]
  },
  {
   "cell_type": "markdown",
   "metadata": {},
   "source": [
    "Properties can also be set by defining setter/getter functions.\n",
    "The setter function sets the corresponding property's value.\n",
    "The getter gets the value.\n",
    "To define a setter, you need to use a decorator of the same name as the property, followed by a dot and the setter keyword.\n",
    "The same applies to defining getter functions."
   ]
  },
  {
   "cell_type": "code",
   "execution_count": 6,
   "metadata": {},
   "outputs": [
    {
     "name": "stdout",
     "output_type": "stream",
     "text": [
      "False\n",
      "True\n"
     ]
    }
   ],
   "source": [
    "class Pizza:\n",
    "  def __init__(self, toppings):\n",
    "    self.toppings = toppings\n",
    "    self._pineapple_allowed = False\n",
    "\n",
    "  @property\n",
    "  def pineapple_allowed(self):\n",
    "    return self._pineapple_allowed\n",
    "\n",
    "  @pineapple_allowed.setter\n",
    "  def pineapple_allowed(self, value):\n",
    "    if value:\n",
    "      password = input(\"Enter the password: \")\n",
    "      if password == \"Sw0rdf1sh!\":\n",
    "        self._pineapple_allowed = value\n",
    "      else:\n",
    "        raise ValueError(\"Alert! Intruder!\")\n",
    "\n",
    "pizza = Pizza([\"cheese\", \"tomato\"])\n",
    "print(pizza.pineapple_allowed)\n",
    "pizza.pineapple_allowed = True\n",
    "print(pizza.pineapple_allowed)"
   ]
  },
  {
   "cell_type": "markdown",
   "metadata": {},
   "source": [
    "\n",
    "We are improving our game and need to add an isAlive property, which returns True if the lives count is greater than 0.\n",
    "Complete the code by adding the isAlive property.\n",
    "\n",
    "The code uses a while loop to hit the Player, until its lives count becomes 0, using the isAlive property to make the condition."
   ]
  },
  {
   "cell_type": "code",
   "execution_count": 8,
   "metadata": {},
   "outputs": [
    {
     "name": "stdout",
     "output_type": "stream",
     "text": [
      "Hit # 1\n",
      "Hit # 2\n",
      "Hit # 3\n",
      "Hit # 4\n",
      "Hit # 5\n",
      "Game Over\n"
     ]
    }
   ],
   "source": [
    "class Player:\n",
    "    def __init__(self, name, lives):\n",
    "        self.name = name\n",
    "        self._lives = lives\n",
    "\n",
    "    def hit(self):\n",
    "        self._lives -= 1\n",
    "    \n",
    "    #your code goes here\n",
    "    @property\n",
    "    def isAlive(self):\n",
    "        return self._lives > 0\n",
    "\n",
    "p = Player(\"Cyberpunk77\", int(input()))\n",
    "i = 1\n",
    "while True:\n",
    "    p.hit()\n",
    "    print(\"Hit # \" + str(i))\n",
    "    i += 1\n",
    "    if not p.isAlive:\n",
    "        print(\"Game Over\")\n",
    "        break"
   ]
  }
 ],
 "metadata": {
  "kernelspec": {
   "display_name": "Python 3",
   "language": "python",
   "name": "python3"
  },
  "language_info": {
   "codemirror_mode": {
    "name": "ipython",
    "version": 3
   },
   "file_extension": ".py",
   "mimetype": "text/x-python",
   "name": "python",
   "nbconvert_exporter": "python",
   "pygments_lexer": "ipython3",
   "version": "3.11.4"
  }
 },
 "nbformat": 4,
 "nbformat_minor": 2
}
